{
 "cells": [
  {
   "cell_type": "markdown",
   "id": "1057fbb7",
   "metadata": {},
   "source": [
    "# Experiment log\n",
    "\n",
    "This file is created to document the approaches attempted to solve the problems. \n",
    "\n",
    "- input size (64$\\times$64) was tried with different number of convolutional kernals in each layer. The final combination used gave the best accuracy. \n",
    "\n",
    "- SGD optimizer (with momentum) gave better accuracy than using Adam optimizer. So finall SGD optimizer was used.\n",
    "\n",
    "- For the final sub-task of task2 I did try ending al the training examples and savinf the encoded feature to attempt a reverse k-NN but the overall approach seemed too complicated so I decided to leave that portion of the code out.\n",
    "\n",
    "- A class was defined at the end to make sure that the notebook is readable and has fewer line of codes. \n",
    "\n",
    "- Some of NIST data's character were checked against the subtask-1 model and they gave good accuracy. \n",
    "\n",
    "- Evaluation metrices like recision and recall were explored but visually the confusion matrix was the only one which looked interpretable and appealing. So others were dropped. \n",
    "\n",
    "- I tried to use tensorboard but my code was getting messier so stopped using it."
   ]
  }
 ],
 "metadata": {
  "kernelspec": {
   "display_name": "Python 3",
   "language": "python",
   "name": "python3"
  },
  "language_info": {
   "codemirror_mode": {
    "name": "ipython",
    "version": 3
   },
   "file_extension": ".py",
   "mimetype": "text/x-python",
   "name": "python",
   "nbconvert_exporter": "python",
   "pygments_lexer": "ipython3",
   "version": "3.9.2"
  }
 },
 "nbformat": 4,
 "nbformat_minor": 5
}
